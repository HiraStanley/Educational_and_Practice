{
  "metadata": {
    "language_info": {
      "codemirror_mode": {
        "name": "python",
        "version": 3
      },
      "file_extension": ".py",
      "mimetype": "text/x-python",
      "name": "python",
      "nbconvert_exporter": "python",
      "pygments_lexer": "ipython3",
      "version": "3.8"
    },
    "kernelspec": {
      "name": "python",
      "display_name": "Python (Pyodide)",
      "language": "python"
    }
  },
  "nbformat_minor": 4,
  "nbformat": 4,
  "cells": [
    {
      "cell_type": "code",
      "source": "def hello(name='Hira'):\n    print('The hello() functions has been executed!')\n    \n    def greet():\n        return '\\t This is the greet() func inside hello!'\n    \n    def welcome():\n        return '\\t This is welcome() inside hello!'\n    \n    print(greet())\n    print(welcome())\n    print('This is the end of the hello function!')",
      "metadata": {
        "trusted": true
      },
      "execution_count": 44,
      "outputs": []
    },
    {
      "cell_type": "code",
      "source": "hello()",
      "metadata": {
        "trusted": true
      },
      "execution_count": 45,
      "outputs": [
        {
          "name": "stdout",
          "text": "The hello() functions has been executed!\n\t This is the greet() func inside hello!\n\t This is welcome() inside hello!\nThis is the end of the hello function!\n",
          "output_type": "stream"
        }
      ]
    },
    {
      "cell_type": "code",
      "source": "def hello(name='Hira'):\n    print('The hello() functions has been executed!')\n    \n    def greet():\n        return '\\t This is the greet() func inside hello!'\n    \n    def welcome():\n        return '\\t This is welcome() inside hello!'\n    \n    print('I am going to return a function!')\n    \n    if name == 'Hira':\n        return greet\n    else:\n        return welcome",
      "metadata": {
        "trusted": true
      },
      "execution_count": 46,
      "outputs": []
    },
    {
      "cell_type": "code",
      "source": "my_new_func = hello('Hira')",
      "metadata": {
        "trusted": true
      },
      "execution_count": 47,
      "outputs": [
        {
          "name": "stdout",
          "text": "The hello() functions has been executed!\nI am going to return a function!\n",
          "output_type": "stream"
        }
      ]
    },
    {
      "cell_type": "code",
      "source": "def cool():\n    \n    def super_cool():\n        return 'I am very cool!'\n    \n    return super_cool",
      "metadata": {
        "trusted": true
      },
      "execution_count": 48,
      "outputs": []
    },
    {
      "cell_type": "code",
      "source": "some_func = cool()",
      "metadata": {
        "trusted": true
      },
      "execution_count": 49,
      "outputs": []
    },
    {
      "cell_type": "code",
      "source": "some_func()",
      "metadata": {
        "trusted": true
      },
      "execution_count": 50,
      "outputs": [
        {
          "execution_count": 50,
          "output_type": "execute_result",
          "data": {
            "text/plain": "'I am very cool!'"
          },
          "metadata": {}
        }
      ]
    },
    {
      "cell_type": "code",
      "source": "def hello():\n    return 'Hi Hira!'",
      "metadata": {
        "trusted": true
      },
      "execution_count": 51,
      "outputs": []
    },
    {
      "cell_type": "code",
      "source": "def other(some_def_func):\n    print('Other code runs here!')\n    print(some_def_func())",
      "metadata": {
        "trusted": true
      },
      "execution_count": 52,
      "outputs": []
    },
    {
      "cell_type": "code",
      "source": "other(hello)",
      "metadata": {
        "trusted": true
      },
      "execution_count": 53,
      "outputs": [
        {
          "name": "stdout",
          "text": "Other code runs here!\nHi Hira!\n",
          "output_type": "stream"
        }
      ]
    },
    {
      "cell_type": "code",
      "source": "def new_decorator(original_func):\n    \n    def wrap_func():\n        \n        print('Some extra code, before the original function')\n        \n        original_func()\n        \n        print('Some extra code, after the original function')\n        \n    return wrap_func",
      "metadata": {
        "trusted": true
      },
      "execution_count": 54,
      "outputs": []
    },
    {
      "cell_type": "code",
      "source": "def func_needs_decorator():\n    print(\"I want to be decorated!\")",
      "metadata": {
        "trusted": true
      },
      "execution_count": 55,
      "outputs": []
    },
    {
      "cell_type": "code",
      "source": "decorated_func = new_decorator(func_needs_decorator)",
      "metadata": {
        "trusted": true
      },
      "execution_count": 40,
      "outputs": []
    },
    {
      "cell_type": "code",
      "source": "decorated_func()",
      "metadata": {
        "trusted": true
      },
      "execution_count": 41,
      "outputs": [
        {
          "name": "stdout",
          "text": "Some extra code, before the original function\nI want to be decorated!\nSome extra code, after the original function\n",
          "output_type": "stream"
        }
      ]
    },
    {
      "cell_type": "code",
      "source": "@new_decorator\ndef func_needs_decorator():\n    print(\"I want to be decorated!\")",
      "metadata": {
        "trusted": true
      },
      "execution_count": 42,
      "outputs": []
    },
    {
      "cell_type": "code",
      "source": "func_needs_decorator()",
      "metadata": {
        "trusted": true
      },
      "execution_count": 43,
      "outputs": [
        {
          "name": "stdout",
          "text": "Some extra code, before the original function\nI want to be decorated!\nSome extra code, after the original function\n",
          "output_type": "stream"
        }
      ]
    }
  ]
}