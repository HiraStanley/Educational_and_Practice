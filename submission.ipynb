{
 "cells": [
  {
   "cell_type": "markdown",
   "id": "c4fdc9a6-1a93-4d28-88f3-035701be561d",
   "metadata": {},
   "source": [
    "A function, `multiply_list` takes as an input a string of space separated ints that is split and converted to a list.  Multiply the list of ints together and return the result. For example, if the input is 1 2 3 4, perform 1 * 2 * 3 * 4 and return the result. If the list is empty, return 0."
   ]
  },
  {
   "cell_type": "code",
   "execution_count": 145,
   "id": "5562655d-0c16-4989-8f3f-863801c474e7",
   "metadata": {},
   "outputs": [],
   "source": [
    "import numpy as np\n",
    "\n",
    "def multiply_list(nums):\n",
    "\n",
    "    nums_list = list(map(int, nums.split()))\n",
    "\n",
    "    if nums_list == []:\n",
    "        return 0\n",
    "    else:\n",
    "        return np.prod(nums_list)"
   ]
  },
  {
   "cell_type": "code",
   "execution_count": 155,
   "id": "4c9faf64-4b12-429b-97c3-6fcdd605d68d",
   "metadata": {},
   "outputs": [
    {
     "data": {
      "text/plain": [
       "0"
      ]
     },
     "execution_count": 155,
     "metadata": {},
     "output_type": "execute_result"
    }
   ],
   "source": [
    "multiply_list(' ')"
   ]
  },
  {
   "cell_type": "markdown",
   "id": "f438f089-35ff-4664-966a-122914f83f08",
   "metadata": {},
   "source": [
    "A function, `count_common_chars`, takes in a string with two words, separated by a single white space. Find the number of unique characters that the strings have in common. For example, if the strings are ‘green’ and ‘red’, there are 2 common characters ('r' and ‘e’). You may assume only lower case characters a-z are included in the strings. You can also assume each string will have at least one character."
   ]
  },
  {
   "cell_type": "code",
   "execution_count": 197,
   "id": "c93b6f99-7d76-4f3e-b65a-67359e571d90",
   "metadata": {},
   "outputs": [],
   "source": [
    "def count_common_chars(two_word_string):\n",
    "    \n",
    "    first_word = list(two_word_string.split()[0])\n",
    "    second_word = list(two_word_string.split()[1])\n",
    "\n",
    "    common_char = set(first_word).intersection(second_word)\n",
    "        \n",
    "    return len(common_char)"
   ]
  },
  {
   "cell_type": "code",
   "execution_count": 201,
   "id": "f29fa7f2-2636-4b90-bc12-a98ea495eafd",
   "metadata": {},
   "outputs": [
    {
     "data": {
      "text/plain": [
       "3"
      ]
     },
     "execution_count": 201,
     "metadata": {},
     "output_type": "execute_result"
    }
   ],
   "source": [
    "count_common_chars('apple pear')"
   ]
  },
  {
   "cell_type": "markdown",
   "id": "a6827458-87c7-485f-8589-ac20918f8094",
   "metadata": {},
   "source": [
    "Write a function, `sum_divisible_by_k`, that finds the sum of the numbers from 1 to N (inclusive) that are divisible by K. For example, if N = 5 and K = 2, then the set of numbers will be {1,2,3,4,5} and the subset of numbers divisible by K will be {2,4} and their sum is 6. If N or K are such that the problem isn’t possible (for instance, K = 0), then return -1."
   ]
  },
  {
   "cell_type": "code",
   "execution_count": 267,
   "id": "7d01d674-eaae-4dcc-8375-ff933b943c7f",
   "metadata": {},
   "outputs": [],
   "source": [
    "def sum_divisible_by_k(n,k):\n",
    "\n",
    "    n_set = set(range(1,n+1))\n",
    "    subset = set()\n",
    "\n",
    "    if k == 0:\n",
    "        return -1\n",
    "    elif n == 0:\n",
    "        return -1\n",
    "    else:\n",
    "        for int in n_set:\n",
    "            if int % k == 0:\n",
    "                subset.add(int)\n",
    "    \n",
    "        return sum(subset)"
   ]
  },
  {
   "cell_type": "code",
   "execution_count": 269,
   "id": "a4f3b0b2-a3cd-4a65-bf7a-af10f4e5ecd4",
   "metadata": {},
   "outputs": [
    {
     "data": {
      "text/plain": [
       "6"
      ]
     },
     "execution_count": 269,
     "metadata": {},
     "output_type": "execute_result"
    }
   ],
   "source": [
    "sum_divisible_by_k(5,2)"
   ]
  },
  {
   "cell_type": "markdown",
   "id": "c1470890-01a7-4676-8d9c-ae8beadad9ad",
   "metadata": {},
   "source": [
    "Write a function, `highest_common_factor`, to find the highest common factor of the 2 numbers. For example, the factors of 8 are the set of numbers {1,2,4,8} and the factors of 6 are the set of numbers {1,2,3,6}. The largest common factor is 2. You can assume both integers are positive and non zero."
   ]
  },
  {
   "cell_type": "code",
   "execution_count": 292,
   "id": "186e1e3d-10a2-444e-bfeb-d119dca381f2",
   "metadata": {},
   "outputs": [],
   "source": [
    "def highest_common_factor(x,y):\n",
    "    \n",
    "    x_factors = set()\n",
    "    y_factors = set()\n",
    "\n",
    "    for i in range(1,x+1):\n",
    "        if x % i == 0:\n",
    "            x_factors.add(i)\n",
    "        \n",
    "    for i in range(1,y+1):\n",
    "        if y % i == 0:\n",
    "            y_factors.add(i)\n",
    "\n",
    "    return max(set(x_factors).intersection(y_factors))"
   ]
  },
  {
   "cell_type": "code",
   "execution_count": 311,
   "id": "5197a53a-8f9b-45de-82ba-b44682813a2b",
   "metadata": {},
   "outputs": [
    {
     "data": {
      "text/plain": [
       "1"
      ]
     },
     "execution_count": 311,
     "metadata": {},
     "output_type": "execute_result"
    }
   ],
   "source": [
    "highest_common_factor(1,51)"
   ]
  },
  {
   "cell_type": "markdown",
   "id": "b32941d2-c0dd-451d-a453-a2b5ccbd0496",
   "metadata": {},
   "source": [
    "Write a function, `get_minimum`, such that the minimum of the list data is returned."
   ]
  },
  {
   "cell_type": "code",
   "execution_count": 301,
   "id": "e7b7c533-42b6-4a44-97d9-217622f1a4a5",
   "metadata": {},
   "outputs": [],
   "source": [
    "def get_minimum(my_list):\n",
    "    return min(my_list)"
   ]
  },
  {
   "cell_type": "code",
   "execution_count": 307,
   "id": "a08eed64-f7e1-48e6-bec0-1101bec0a4f1",
   "metadata": {},
   "outputs": [
    {
     "data": {
      "text/plain": [
       "-50"
      ]
     },
     "execution_count": 307,
     "metadata": {},
     "output_type": "execute_result"
    }
   ],
   "source": [
    "get_minimum([5, 13,28, 0, 1, -50])"
   ]
  },
  {
   "cell_type": "markdown",
   "id": "30a9e62f-2c1e-40d2-b85c-234bdd2c4f7d",
   "metadata": {},
   "source": [
    "Write a function, `rename_col`, which accepts three arguments, a dataframe, old column name and the new column name. In the function, update the column name from old to the new and return the modified dataframe."
   ]
  },
  {
   "cell_type": "code",
   "execution_count": 317,
   "id": "e3edd8a9-ba78-427d-967a-ff5af4ab81ec",
   "metadata": {},
   "outputs": [],
   "source": [
    "import pandas as pd\n",
    "\n",
    "def rename_col(df, old, new):\n",
    "    df.rename(columns={old: new}, inplace=True)\n",
    "\n",
    "    return df"
   ]
  },
  {
   "cell_type": "markdown",
   "id": "ceff6f9e-4fcf-47de-b701-0079068425b7",
   "metadata": {},
   "source": [
    "Write a function, `standard_deviation`, which accepts a series and returns the standard deviation of that series."
   ]
  },
  {
   "cell_type": "code",
   "execution_count": 374,
   "id": "63fada5a-fe92-4d05-8287-29d58b7c12d1",
   "metadata": {},
   "outputs": [],
   "source": [
    "import pandas as pd\n",
    "\n",
    "def standard_deviation(series):\n",
    "\n",
    "    return series.std()"
   ]
  },
  {
   "cell_type": "code",
   "execution_count": 388,
   "id": "2ea8b6c5-70c6-4aa1-99b3-a693d426aa72",
   "metadata": {},
   "outputs": [
    {
     "data": {
      "text/plain": [
       "1.5811388300841898"
      ]
     },
     "execution_count": 388,
     "metadata": {},
     "output_type": "execute_result"
    }
   ],
   "source": [
    "standard_deviation(pd.Series([2,3,4,5,6]))"
   ]
  },
  {
   "cell_type": "markdown",
   "id": "acbc6003-e9a6-4aed-8f2b-95b1ce9d2d59",
   "metadata": {},
   "source": [
    "A function, `correlation_sum`, takes in a string of 9 numbers. Convert and/or reshape the data into a 3 x 3 DataFrame using numpy and pandas. For instance, if the string is 1 2 3 4 5 6 7 8 9 then the first row of the dataframe should be 1 2 3 and the second row should be 4 5 6. Create a pariwise correlation matrix using the resulting 3 x 3 matrix and sum all the cell values of the pairwise correlation matrix. Return the resulting sum rounded to one decimal place.\r\n",
    " \r\n",
    "If the input does not contain 9 ints, then return 0\r\n",
    "Hint, this can be done in a few lines of code using pandas and numpy and using the round function."
   ]
  },
  {
   "cell_type": "code",
   "execution_count": 412,
   "id": "2140f5a2-e6fb-4381-a193-4a57ab4bbf42",
   "metadata": {},
   "outputs": [],
   "source": [
    "import numpy as np\n",
    "import pandas as pd\n",
    "\n",
    "def correlation_sum(num_string):\n",
    "    nums_list = list(map(int, num_string.split()))\n",
    "\n",
    "    if len(nums_list) != 9:\n",
    "        return 0\n",
    "\n",
    "    df = pd.DataFrame(np.array(nums_list).reshape(3,3))\n",
    "\n",
    "    corr_matrix = df.corr()\n",
    "\n",
    "    sum_result = corr_matrix.values.sum()\n",
    "        \n",
    "    return round(sum_result, 1)"
   ]
  },
  {
   "cell_type": "code",
   "execution_count": 414,
   "id": "d42a9197-f642-4074-89f0-921715b2fe74",
   "metadata": {},
   "outputs": [
    {
     "data": {
      "text/plain": [
       "9.0"
      ]
     },
     "execution_count": 414,
     "metadata": {},
     "output_type": "execute_result"
    }
   ],
   "source": [
    "correlation_sum('1 2 3 4 5 6 7 8 9')"
   ]
  },
  {
   "cell_type": "code",
   "execution_count": null,
   "id": "1c08f027-1d99-4234-ba6d-b3ee855f9a16",
   "metadata": {},
   "outputs": [],
   "source": []
  }
 ],
 "metadata": {
  "kernelspec": {
   "display_name": "Python 3 (ipykernel)",
   "language": "python",
   "name": "python3"
  },
  "language_info": {
   "codemirror_mode": {
    "name": "ipython",
    "version": 3
   },
   "file_extension": ".py",
   "mimetype": "text/x-python",
   "name": "python",
   "nbconvert_exporter": "python",
   "pygments_lexer": "ipython3",
   "version": "3.11.7"
  }
 },
 "nbformat": 4,
 "nbformat_minor": 5
}
