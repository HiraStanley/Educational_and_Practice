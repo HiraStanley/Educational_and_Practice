{
  "metadata": {
    "language_info": {
      "codemirror_mode": {
        "name": "python",
        "version": 3
      },
      "file_extension": ".py",
      "mimetype": "text/x-python",
      "name": "python",
      "nbconvert_exporter": "python",
      "pygments_lexer": "ipython3",
      "version": "3.8"
    },
    "kernelspec": {
      "name": "python",
      "display_name": "Python (Pyodide)",
      "language": "python"
    }
  },
  "nbformat_minor": 4,
  "nbformat": 4,
  "cells": [
    {
      "cell_type": "code",
      "source": "number = 10",
      "metadata": {
        "trusted": true
      },
      "execution_count": 3,
      "outputs": []
    },
    {
      "cell_type": "code",
      "source": "number2 = input(\"Please provide a number: \")",
      "metadata": {
        "trusted": true
      },
      "execution_count": 4,
      "outputs": [
        {
          "output_type": "stream",
          "name": "stdin",
          "text": "Please provide a number:  20\n"
        }
      ]
    },
    {
      "cell_type": "code",
      "source": "try:\n    result = 10 + 10\nexcept:\n    print(\"Hey it looks like you aren't adding correctly!\")\nelse:\n    print(\"Add went well!\")\n    print(result)",
      "metadata": {
        "trusted": true
      },
      "execution_count": 10,
      "outputs": [
        {
          "name": "stdout",
          "text": "Add went well!\n20\n",
          "output_type": "stream"
        }
      ]
    },
    {
      "cell_type": "code",
      "source": "result",
      "metadata": {
        "trusted": true
      },
      "execution_count": 8,
      "outputs": [
        {
          "execution_count": 8,
          "output_type": "execute_result",
          "data": {
            "text/plain": "20"
          },
          "metadata": {}
        }
      ]
    },
    {
      "cell_type": "code",
      "source": "try:\n    f = open('testfile', 'w')\n    f.write(\"Writing a test line\")\nexcept TypeError:\n    print(\"There was a type error\")\nexcept OSError:\n    print('Hey you have an OS Error')\nfinally:\n    print(\"I always run\")",
      "metadata": {
        "trusted": true
      },
      "execution_count": 11,
      "outputs": [
        {
          "name": "stdout",
          "text": "I always run\n",
          "output_type": "stream"
        }
      ]
    },
    {
      "cell_type": "code",
      "source": "try:\n    f = open('testfile', 'r')\n    f.write(\"Writing a test line\")\nexcept TypeError:\n    print(\"There was a type error\")\nexcept OSError:\n    print('Hey you have an OS Error')\nfinally:\n    print(\"I always run\")",
      "metadata": {
        "trusted": true
      },
      "execution_count": 12,
      "outputs": [
        {
          "name": "stdout",
          "text": "Hey you have an OS Error\nI always run\n",
          "output_type": "stream"
        }
      ]
    },
    {
      "cell_type": "code",
      "source": "def ask_for_int():\n    \n    while True:\n        try:\n            result = int(input(\"Please provide number: \"))\n        except:\n            print(\"Whoops! That is not a number\")\n            continue\n        else:\n            print(\"Yes thank you\")\n            break\n        finally:\n            print(\"I'm going to ask you again! \\n\")",
      "metadata": {
        "trusted": true
      },
      "execution_count": 16,
      "outputs": []
    },
    {
      "cell_type": "code",
      "source": "",
      "metadata": {},
      "execution_count": null,
      "outputs": []
    }
  ]
}