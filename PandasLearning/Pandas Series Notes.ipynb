{
 "cells": [
  {
   "cell_type": "markdown",
   "id": "484b0e44",
   "metadata": {},
   "source": [
    "# Import Pandas"
   ]
  },
  {
   "cell_type": "code",
   "execution_count": 1,
   "id": "21e659e6",
   "metadata": {},
   "outputs": [],
   "source": [
    "import pandas as pd"
   ]
  },
  {
   "cell_type": "markdown",
   "id": "9e55211b",
   "metadata": {},
   "source": [
    "# Convert a List to a Series"
   ]
  },
  {
   "cell_type": "code",
   "execution_count": 2,
   "id": "63a70e0d",
   "metadata": {},
   "outputs": [
    {
     "data": {
      "text/plain": [
       "0       Chocolate\n",
       "1         Vanilla\n",
       "2      Strawberry\n",
       "3    Butter Pecan\n",
       "dtype: object"
      ]
     },
     "execution_count": 2,
     "metadata": {},
     "output_type": "execute_result"
    }
   ],
   "source": [
    "ice_cream = [\"Chocolate\", \"Vanilla\", \"Strawberry\", \"Butter Pecan\"]\n",
    "pd.Series(ice_cream)"
   ]
  },
  {
   "cell_type": "markdown",
   "id": "b6ec5663",
   "metadata": {},
   "source": [
    "# Convert a Dictionary to a Series"
   ]
  },
  {
   "cell_type": "code",
   "execution_count": 5,
   "id": "40e94728",
   "metadata": {},
   "outputs": [
    {
     "data": {
      "text/plain": [
       "Salmon    Orange\n",
       "Tuna        Pink\n",
       "Eel        Brown\n",
       "dtype: object"
      ]
     },
     "execution_count": 5,
     "metadata": {},
     "output_type": "execute_result"
    }
   ],
   "source": [
    "sushi = {\n",
    "    \"Salmon\": \"Orange\",\n",
    "    \"Tuna\": \"Pink\",\n",
    "    \"Eel\": \"Brown\"\n",
    "}\n",
    "pd.Series(sushi)"
   ]
  },
  {
   "cell_type": "markdown",
   "id": "3ba23015",
   "metadata": {},
   "source": [
    "# Series Methods"
   ]
  },
  {
   "cell_type": "code",
   "execution_count": 6,
   "id": "6a65e31c",
   "metadata": {},
   "outputs": [
    {
     "data": {
      "text/plain": [
       "0    2.99\n",
       "1    4.45\n",
       "2    1.36\n",
       "dtype: float64"
      ]
     },
     "execution_count": 6,
     "metadata": {},
     "output_type": "execute_result"
    }
   ],
   "source": [
    "prices = pd.Series([2.99, 4.45, 1.36])\n",
    "prices"
   ]
  },
  {
   "cell_type": "code",
   "execution_count": 7,
   "id": "768fa069",
   "metadata": {},
   "outputs": [
    {
     "data": {
      "text/plain": [
       "1.5457791994115246"
      ]
     },
     "execution_count": 7,
     "metadata": {},
     "output_type": "execute_result"
    }
   ],
   "source": [
    "prices.sum()\n",
    "prices.product()\n",
    "prices.mean()\n",
    "prices.std()"
   ]
  },
  {
   "cell_type": "markdown",
   "id": "d2890c32",
   "metadata": {},
   "source": [
    "# Series Attributes"
   ]
  },
  {
   "cell_type": "code",
   "execution_count": 9,
   "id": "d4e3dcee",
   "metadata": {},
   "outputs": [
    {
     "data": {
      "text/plain": [
       "0        Smart\n",
       "1     Handsome\n",
       "2       Humble\n",
       "3    Brilliant\n",
       "4     Charming\n",
       "5        Smart\n",
       "dtype: object"
      ]
     },
     "execution_count": 9,
     "metadata": {},
     "output_type": "execute_result"
    }
   ],
   "source": [
    "adjectives = pd.Series([\"Smart\", \"Handsome\", \"Humble\", \"Brilliant\", \"Charming\", \"Smart\"])\n",
    "adjectives"
   ]
  },
  {
   "cell_type": "code",
   "execution_count": 12,
   "id": "bcf01c2d",
   "metadata": {},
   "outputs": [
    {
     "data": {
      "text/plain": [
       "RangeIndex(start=0, stop=6, step=1)"
      ]
     },
     "execution_count": 12,
     "metadata": {},
     "output_type": "execute_result"
    }
   ],
   "source": [
    "adjectives.size\n",
    "adjectives.is_unique\n",
    "adjectives.values\n",
    "adjectives.index"
   ]
  },
  {
   "cell_type": "markdown",
   "id": "cbdc0d73",
   "metadata": {},
   "source": [
    "# Read CSV"
   ]
  },
  {
   "cell_type": "code",
   "execution_count": 43,
   "id": "e2136fc3",
   "metadata": {},
   "outputs": [
    {
     "name": "stderr",
     "output_type": "stream",
     "text": [
      "C:\\Users\\saleemh\\AppData\\Local\\Temp\\ipykernel_28560\\2527003546.py:1: FutureWarning: The squeeze argument has been deprecated and will be removed in a future version. Append .squeeze(\"columns\") to the call to squeeze.\n",
      "\n",
      "\n",
      "  pokemon = pd.read_csv(\"pokemon.csv\", usecols= [\"Pokemon\"], squeeze = True)\n"
     ]
    },
    {
     "data": {
      "text/plain": [
       "716      Yveltal\n",
       "717      Zygarde\n",
       "718      Diancie\n",
       "719        Hoopa\n",
       "720    Volcanion\n",
       "Name: Pokemon, dtype: object"
      ]
     },
     "execution_count": 43,
     "metadata": {},
     "output_type": "execute_result"
    }
   ],
   "source": [
    "pokemon = pd.read_csv(\"pokemon.csv\", usecols= [\"Pokemon\"], squeeze = True)\n",
    "pokemon.head()\n",
    "pokemon.tail()"
   ]
  },
  {
   "cell_type": "code",
   "execution_count": 29,
   "id": "f3c51dc8",
   "metadata": {},
   "outputs": [
    {
     "data": {
      "text/plain": [
       "'Pokemon'"
      ]
     },
     "execution_count": 29,
     "metadata": {},
     "output_type": "execute_result"
    }
   ],
   "source": [
    "len(pokemon)\n",
    "type(pokemon)\n",
    "list(pokemon)\n",
    "sorted(pokemon)\n",
    "max(pokemon)\n",
    "min(pokemon)"
   ]
  },
  {
   "cell_type": "markdown",
   "id": "80194ffd",
   "metadata": {},
   "source": [
    "# In Keyword"
   ]
  },
  {
   "cell_type": "code",
   "execution_count": 44,
   "id": "81a4350d",
   "metadata": {},
   "outputs": [
    {
     "data": {
      "text/plain": [
       "True"
      ]
     },
     "execution_count": 44,
     "metadata": {},
     "output_type": "execute_result"
    }
   ],
   "source": [
    "\"Car\" in \"racecar\"\n",
    "\"car\" in \"racecar\"\n",
    "\"Bulbasaur\" in pokemon.values\n",
    "0 in pokemon.index"
   ]
  },
  {
   "cell_type": "markdown",
   "id": "d77ec08f",
   "metadata": {},
   "source": [
    "# sort_values method"
   ]
  },
  {
   "cell_type": "code",
   "execution_count": 45,
   "id": "e8056528",
   "metadata": {},
   "outputs": [
    {
     "name": "stderr",
     "output_type": "stream",
     "text": [
      "C:\\Users\\saleemh\\AppData\\Local\\Temp\\ipykernel_28560\\2667104970.py:1: FutureWarning: The squeeze argument has been deprecated and will be removed in a future version. Append .squeeze(\"columns\") to the call to squeeze.\n",
      "\n",
      "\n",
      "  google = pd.read_csv(\"google_stock_price.csv\", squeeze = True)\n"
     ]
    }
   ],
   "source": [
    "google = pd.read_csv(\"google_stock_price.csv\", squeeze = True)"
   ]
  },
  {
   "cell_type": "code",
   "execution_count": 46,
   "id": "636acf00",
   "metadata": {},
   "outputs": [
    {
     "data": {
      "text/plain": [
       "11       49.95\n",
       "9        50.07\n",
       "0        50.12\n",
       "10       50.70\n",
       "12       50.74\n",
       "         ...  \n",
       "3010    771.61\n",
       "3007    772.88\n",
       "3009    773.18\n",
       "2859    776.60\n",
       "3011    782.22\n",
       "Name: Stock Price, Length: 3012, dtype: float64"
      ]
     },
     "execution_count": 46,
     "metadata": {},
     "output_type": "execute_result"
    }
   ],
   "source": [
    "google.sort_values()"
   ]
  },
  {
   "cell_type": "code",
   "execution_count": 60,
   "id": "c23e6609",
   "metadata": {},
   "outputs": [
    {
     "data": {
      "text/plain": [
       "3011    782.22\n",
       "2859    776.60\n",
       "3009    773.18\n",
       "3007    772.88\n",
       "3010    771.61\n",
       "         ...  \n",
       "12       50.74\n",
       "10       50.70\n",
       "0        50.12\n",
       "9        50.07\n",
       "11       49.95\n",
       "Name: Stock Price, Length: 3012, dtype: float64"
      ]
     },
     "execution_count": 60,
     "metadata": {},
     "output_type": "execute_result"
    }
   ],
   "source": [
    "google.sort_values(ascending=False)"
   ]
  },
  {
   "cell_type": "code",
   "execution_count": 61,
   "id": "6c445300",
   "metadata": {},
   "outputs": [
    {
     "data": {
      "text/plain": [
       "3011    782.22\n",
       "2859    776.60\n",
       "3009    773.18\n",
       "3007    772.88\n",
       "3010    771.61\n",
       "Name: Stock Price, dtype: float64"
      ]
     },
     "execution_count": 61,
     "metadata": {},
     "output_type": "execute_result"
    }
   ],
   "source": [
    "google.sort_values(ascending=False).head()"
   ]
  },
  {
   "cell_type": "markdown",
   "id": "95b9a820",
   "metadata": {},
   "source": [
    "^ Sorting in a new series, not altering existing."
   ]
  },
  {
   "cell_type": "markdown",
   "id": "3047c415",
   "metadata": {},
   "source": [
    "# Math methods on Series"
   ]
  },
  {
   "cell_type": "code",
   "execution_count": 49,
   "id": "24fc1d91",
   "metadata": {},
   "outputs": [
    {
     "data": {
      "text/plain": [
       "count    3012.000000\n",
       "mean      334.310093\n",
       "std       173.187205\n",
       "min        49.950000\n",
       "25%       218.045000\n",
       "50%       283.315000\n",
       "75%       443.000000\n",
       "max       782.220000\n",
       "Name: Stock Price, dtype: float64"
      ]
     },
     "execution_count": 49,
     "metadata": {},
     "output_type": "execute_result"
    }
   ],
   "source": [
    "google.count()\n",
    "google.mean()\n",
    "google.describe()"
   ]
  },
  {
   "cell_type": "code",
   "execution_count": 54,
   "id": "370b96f7",
   "metadata": {},
   "outputs": [
    {
     "data": {
      "text/plain": [
       "782.22"
      ]
     },
     "execution_count": 54,
     "metadata": {},
     "output_type": "execute_result"
    }
   ],
   "source": [
    "google.idxmax()\n",
    "google.idxmin()\n",
    "google[3011]\n",
    "google[google.idxmax()]"
   ]
  },
  {
   "cell_type": "markdown",
   "id": "7b632a69",
   "metadata": {},
   "source": [
    "# value_counts method"
   ]
  },
  {
   "cell_type": "code",
   "execution_count": 90,
   "id": "a11f5dd3",
   "metadata": {},
   "outputs": [
    {
     "data": {
      "text/plain": [
       "Water                  105\n",
       "Normal                  93\n",
       "Grass                   64\n",
       "Bug                     63\n",
       "Psychic                 47\n",
       "Fire                    47\n",
       "Rock                    41\n",
       "Electric                36\n",
       "Ground                  30\n",
       "Poison                  28\n",
       "Dark                    28\n",
       "Fighting                25\n",
       "Dragon                  24\n",
       "Ghost                   23\n",
       "Ice                     23\n",
       "Steel                   22\n",
       "Fairy                   17\n",
       "Flying                   3\n",
       "Silly                    1\n",
       "Overwritten Pokemon      1\n",
       "Name: Type, dtype: int64"
      ]
     },
     "execution_count": 90,
     "metadata": {},
     "output_type": "execute_result"
    }
   ],
   "source": [
    "pokemon.value_counts()"
   ]
  },
  {
   "cell_type": "code",
   "execution_count": 92,
   "id": "5e37557c",
   "metadata": {},
   "outputs": [
    {
     "data": {
      "text/plain": [
       "Water                  14.563107\n",
       "Normal                 12.898752\n",
       "Grass                   8.876560\n",
       "Bug                     8.737864\n",
       "Psychic                 6.518724\n",
       "Fire                    6.518724\n",
       "Rock                    5.686546\n",
       "Electric                4.993065\n",
       "Ground                  4.160888\n",
       "Poison                  3.883495\n",
       "Dark                    3.883495\n",
       "Fighting                3.467406\n",
       "Dragon                  3.328710\n",
       "Ghost                   3.190014\n",
       "Ice                     3.190014\n",
       "Steel                   3.051318\n",
       "Fairy                   2.357836\n",
       "Flying                  0.416089\n",
       "Silly                   0.138696\n",
       "Overwritten Pokemon     0.138696\n",
       "Name: Type, dtype: float64"
      ]
     },
     "execution_count": 92,
     "metadata": {},
     "output_type": "execute_result"
    }
   ],
   "source": [
    "pokemon.value_counts(normalize = True)*100"
   ]
  },
  {
   "cell_type": "code",
   "execution_count": 88,
   "id": "fa54074a",
   "metadata": {},
   "outputs": [
    {
     "data": {
      "text/plain": [
       "721"
      ]
     },
     "execution_count": 88,
     "metadata": {},
     "output_type": "execute_result"
    }
   ],
   "source": [
    "pokemon.value_counts().sum()"
   ]
  },
  {
   "cell_type": "markdown",
   "id": "1b7baaff",
   "metadata": {},
   "source": [
    "# Apply and Lambda"
   ]
  },
  {
   "cell_type": "code",
   "execution_count": 57,
   "id": "77f04e69",
   "metadata": {},
   "outputs": [
    {
     "data": {
      "text/plain": [
       "0        51.12\n",
       "1        55.10\n",
       "2        55.65\n",
       "3        53.38\n",
       "4        53.95\n",
       "         ...  \n",
       "3007    773.88\n",
       "3008    772.07\n",
       "3009    774.18\n",
       "3010    772.61\n",
       "3011    783.22\n",
       "Name: Stock Price, Length: 3012, dtype: float64"
      ]
     },
     "execution_count": 57,
     "metadata": {},
     "output_type": "execute_result"
    }
   ],
   "source": [
    "google.apply(lambda stock_price : stock_price + 1)"
   ]
  },
  {
   "cell_type": "code",
   "execution_count": 58,
   "id": "275cc18a",
   "metadata": {},
   "outputs": [],
   "source": [
    "def classify_performance(number):\n",
    "    if number < 300:\n",
    "        return \"OK\"\n",
    "    elif number >= 300 and number < 650:\n",
    "        return \"Satisfactory\"\n",
    "    else:\n",
    "        return \"Incredible!\""
   ]
  },
  {
   "cell_type": "code",
   "execution_count": 59,
   "id": "668708b9",
   "metadata": {},
   "outputs": [
    {
     "data": {
      "text/plain": [
       "0                OK\n",
       "1                OK\n",
       "2                OK\n",
       "3                OK\n",
       "4                OK\n",
       "           ...     \n",
       "3007    Incredible!\n",
       "3008    Incredible!\n",
       "3009    Incredible!\n",
       "3010    Incredible!\n",
       "3011    Incredible!\n",
       "Name: Stock Price, Length: 3012, dtype: object"
      ]
     },
     "execution_count": 59,
     "metadata": {},
     "output_type": "execute_result"
    }
   ],
   "source": [
    "google.apply(classify_performance)"
   ]
  },
  {
   "cell_type": "code",
   "execution_count": 94,
   "id": "43eb5f6f",
   "metadata": {},
   "outputs": [
    {
     "data": {
      "text/plain": [
       "331"
      ]
     },
     "execution_count": 94,
     "metadata": {},
     "output_type": "execute_result"
    }
   ],
   "source": [
    "def count_of_a(pokemon):\n",
    "    return pokemon.count(\"a\")\n",
    "\n",
    "pokemon.apply(count_of_a).sum()"
   ]
  },
  {
   "cell_type": "markdown",
   "id": "3a67e206",
   "metadata": {},
   "source": [
    "# Map method"
   ]
  },
  {
   "cell_type": "code",
   "execution_count": 95,
   "id": "a2878212",
   "metadata": {},
   "outputs": [],
   "source": [
    "attack_powers = {\n",
    "    \"Grass\": 10,\n",
    "    \"Fire\": 15,\n",
    "    \"Water\": 15,\n",
    "    \"Fairy, Fighting\": 20,\n",
    "    \"Grass, Psychic\": 50\n",
    "}"
   ]
  },
  {
   "cell_type": "code",
   "execution_count": 96,
   "id": "fcb14024",
   "metadata": {},
   "outputs": [
    {
     "data": {
      "text/plain": [
       "Pokemon\n",
       "Bulbasaur      NaN\n",
       "Ivysaur        NaN\n",
       "Venusaur      10.0\n",
       "Charmander    15.0\n",
       "Charmeleon    15.0\n",
       "              ... \n",
       "Yveltal        NaN\n",
       "Zygarde        NaN\n",
       "Diancie        NaN\n",
       "Hoopa          NaN\n",
       "Volcanion     15.0\n",
       "Name: Type, Length: 721, dtype: float64"
      ]
     },
     "execution_count": 96,
     "metadata": {},
     "output_type": "execute_result"
    }
   ],
   "source": [
    "pokemon.map(attack_powers)"
   ]
  },
  {
   "cell_type": "markdown",
   "id": "88801059",
   "metadata": {},
   "source": [
    "# sort_index method"
   ]
  },
  {
   "cell_type": "code",
   "execution_count": 64,
   "id": "a0e6cea9",
   "metadata": {},
   "outputs": [
    {
     "data": {
      "text/plain": [
       "0       Bulbasaur\n",
       "1         Ivysaur\n",
       "2        Venusaur\n",
       "3      Charmander\n",
       "4      Charmeleon\n",
       "          ...    \n",
       "716       Yveltal\n",
       "717       Zygarde\n",
       "718       Diancie\n",
       "719         Hoopa\n",
       "720     Volcanion\n",
       "Name: Pokemon, Length: 721, dtype: object"
      ]
     },
     "execution_count": 64,
     "metadata": {},
     "output_type": "execute_result"
    }
   ],
   "source": [
    "pokemon.sort_index()"
   ]
  },
  {
   "cell_type": "markdown",
   "id": "fb9f78c0",
   "metadata": {},
   "source": [
    "# Extract Values by Index Position"
   ]
  },
  {
   "cell_type": "code",
   "execution_count": 65,
   "id": "b34d1efa",
   "metadata": {},
   "outputs": [
    {
     "data": {
      "text/plain": [
       "'Bulbasaur'"
      ]
     },
     "execution_count": 65,
     "metadata": {},
     "output_type": "execute_result"
    }
   ],
   "source": [
    "pokemon.iloc[0]"
   ]
  },
  {
   "cell_type": "code",
   "execution_count": 66,
   "id": "8470679f",
   "metadata": {},
   "outputs": [
    {
     "data": {
      "text/plain": [
       "100    Electrode\n",
       "200        Unown\n",
       "300     Delcatty\n",
       "Name: Pokemon, dtype: object"
      ]
     },
     "execution_count": 66,
     "metadata": {},
     "output_type": "execute_result"
    }
   ],
   "source": [
    "pokemon.iloc[[100,200,300]]"
   ]
  },
  {
   "cell_type": "code",
   "execution_count": 71,
   "id": "2e80b3e2",
   "metadata": {},
   "outputs": [
    {
     "data": {
      "text/plain": [
       "27    Sandslash\n",
       "28      Nidoran\n",
       "29     Nidorina\n",
       "30    Nidoqueen\n",
       "31     Nidoran♂\n",
       "32     Nidorino\n",
       "33     Nidoking\n",
       "34     Clefairy\n",
       "35     Clefable\n",
       "Name: Pokemon, dtype: object"
      ]
     },
     "execution_count": 71,
     "metadata": {},
     "output_type": "execute_result"
    }
   ],
   "source": [
    "pokemon.iloc[27:36]"
   ]
  },
  {
   "cell_type": "code",
   "execution_count": 83,
   "id": "a3a153bf",
   "metadata": {},
   "outputs": [
    {
     "data": {
      "text/plain": [
       "'Grass'"
      ]
     },
     "execution_count": 83,
     "metadata": {},
     "output_type": "execute_result"
    }
   ],
   "source": [
    "pokemon.loc[\"Bulbasaur\"]"
   ]
  },
  {
   "cell_type": "code",
   "execution_count": 73,
   "id": "24a9c161",
   "metadata": {},
   "outputs": [],
   "source": [
    "pokemon.get(\"Moltres\")"
   ]
  },
  {
   "cell_type": "markdown",
   "id": "53124fc4",
   "metadata": {},
   "source": [
    "# Overwrite a Series Value"
   ]
  },
  {
   "cell_type": "code",
   "execution_count": 77,
   "id": "fb4f0c1f",
   "metadata": {},
   "outputs": [
    {
     "data": {
      "text/plain": [
       "0     Bulbasaur\n",
       "1         First\n",
       "2        Second\n",
       "3         Third\n",
       "4    Charmeleon\n",
       "Name: Pokemon, dtype: object"
      ]
     },
     "execution_count": 77,
     "metadata": {},
     "output_type": "execute_result"
    }
   ],
   "source": [
    "pokemon.iloc[[1,2,3]] = [\"First\", \"Second\", \"Third\"]\n",
    "pokemon.head()"
   ]
  },
  {
   "cell_type": "code",
   "execution_count": 80,
   "id": "b3247e17",
   "metadata": {},
   "outputs": [],
   "source": [
    "pokemon = pd.read_csv(\"pokemon.csv\", index_col=\"Pokemon\").squeeze(\"columns\")"
   ]
  },
  {
   "cell_type": "code",
   "execution_count": 82,
   "id": "87b71be1",
   "metadata": {},
   "outputs": [
    {
     "data": {
      "text/plain": [
       "'Grass'"
      ]
     },
     "execution_count": 82,
     "metadata": {},
     "output_type": "execute_result"
    }
   ],
   "source": [
    "pokemon.loc[\"Bulbasaur\"]"
   ]
  },
  {
   "cell_type": "code",
   "execution_count": 85,
   "id": "d2da422d",
   "metadata": {},
   "outputs": [
    {
     "data": {
      "text/plain": [
       "'Overwritten Pokemon'"
      ]
     },
     "execution_count": 85,
     "metadata": {},
     "output_type": "execute_result"
    }
   ],
   "source": [
    "pokemon.loc[\"Bulbasaur\"] = \"Overwritten Pokemon\"\n",
    "pokemon[0]"
   ]
  },
  {
   "cell_type": "code",
   "execution_count": 87,
   "id": "dc9999d4",
   "metadata": {},
   "outputs": [
    {
     "data": {
      "text/plain": [
       "Pokemon\n",
       "Bulbasaur     Overwritten Pokemon\n",
       "Ivysaur                     Silly\n",
       "Venusaur                    Grass\n",
       "Charmander                   Fire\n",
       "Charmeleon                   Fire\n",
       "Name: Type, dtype: object"
      ]
     },
     "execution_count": 87,
     "metadata": {},
     "output_type": "execute_result"
    }
   ],
   "source": [
    "pokemon.iloc[1] = \"Silly\"\n",
    "pokemon.head()"
   ]
  }
 ],
 "metadata": {
  "kernelspec": {
   "display_name": "Python 3 (ipykernel)",
   "language": "python",
   "name": "python3"
  },
  "language_info": {
   "codemirror_mode": {
    "name": "ipython",
    "version": 3
   },
   "file_extension": ".py",
   "mimetype": "text/x-python",
   "name": "python",
   "nbconvert_exporter": "python",
   "pygments_lexer": "ipython3",
   "version": "3.9.12"
  }
 },
 "nbformat": 4,
 "nbformat_minor": 5
}
