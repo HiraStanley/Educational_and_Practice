{
 "cells": [
  {
   "cell_type": "code",
   "execution_count": 1,
   "id": "f083e022",
   "metadata": {},
   "outputs": [],
   "source": [
    "import pandas as pd"
   ]
  },
  {
   "cell_type": "code",
   "execution_count": 2,
   "id": "c01d0721",
   "metadata": {},
   "outputs": [],
   "source": [
    "import datetime as dt"
   ]
  },
  {
   "cell_type": "code",
   "execution_count": 6,
   "id": "7c0c4e5e",
   "metadata": {},
   "outputs": [
    {
     "data": {
      "text/plain": [
       "15"
      ]
     },
     "execution_count": 6,
     "metadata": {},
     "output_type": "execute_result"
    }
   ],
   "source": [
    "someday = dt.date(2025,12,15)\n",
    "\n",
    "someday.year\n",
    "someday.month\n",
    "someday.day"
   ]
  },
  {
   "cell_type": "code",
   "execution_count": 8,
   "id": "3d8fa077",
   "metadata": {},
   "outputs": [
    {
     "data": {
      "text/plain": [
       "datetime.datetime(2025, 12, 15, 14, 20, 55)"
      ]
     },
     "execution_count": 8,
     "metadata": {},
     "output_type": "execute_result"
    }
   ],
   "source": [
    "dt.datetime(2025, 12, 15, 14, 20, 55)"
   ]
  },
  {
   "cell_type": "code",
   "execution_count": 10,
   "id": "721dbfa8",
   "metadata": {},
   "outputs": [
    {
     "data": {
      "text/plain": [
       "Timestamp('2027-03-12 15:33:06')"
      ]
     },
     "execution_count": 10,
     "metadata": {},
     "output_type": "execute_result"
    }
   ],
   "source": [
    "pd.Timestamp(2027, 3, 12, 15, 33, 6)"
   ]
  },
  {
   "cell_type": "markdown",
   "id": "808bf24b",
   "metadata": {},
   "source": [
    "# date_range"
   ]
  },
  {
   "cell_type": "code",
   "execution_count": 11,
   "id": "84535a6b",
   "metadata": {},
   "outputs": [
    {
     "data": {
      "text/plain": [
       "DatetimeIndex(['2025-01-01', '2025-01-02', '2025-01-03', '2025-01-04',\n",
       "               '2025-01-05', '2025-01-06', '2025-01-07'],\n",
       "              dtype='datetime64[ns]', freq='D')"
      ]
     },
     "execution_count": 11,
     "metadata": {},
     "output_type": "execute_result"
    }
   ],
   "source": [
    "pd.date_range(start=\"2025-01-01\", end=\"2025-01-07\")"
   ]
  },
  {
   "cell_type": "code",
   "execution_count": 13,
   "id": "3f04a092",
   "metadata": {},
   "outputs": [
    {
     "data": {
      "text/plain": [
       "DatetimeIndex(['2025-01-31', '2025-02-28', '2025-03-31', '2025-04-30',\n",
       "               '2025-05-31', '2025-06-30', '2025-07-31', '2025-08-31',\n",
       "               '2025-09-30', '2025-10-31', '2025-11-30'],\n",
       "              dtype='datetime64[ns]', freq='M')"
      ]
     },
     "execution_count": 13,
     "metadata": {},
     "output_type": "execute_result"
    }
   ],
   "source": [
    "pd.date_range(start=\"2025-01-01\", end=\"2025-12-01\", freq=\"M\") #month ends"
   ]
  },
  {
   "cell_type": "code",
   "execution_count": 14,
   "id": "17d8cf1b",
   "metadata": {},
   "outputs": [
    {
     "data": {
      "text/plain": [
       "DatetimeIndex(['2025-01-01', '2025-01-03', '2025-01-05', '2025-01-07'], dtype='datetime64[ns]', freq='2D')"
      ]
     },
     "execution_count": 14,
     "metadata": {},
     "output_type": "execute_result"
    }
   ],
   "source": [
    "pd.date_range(start=\"2025-01-01\", end=\"2025-01-07\", freq=\"2D\")"
   ]
  },
  {
   "cell_type": "code",
   "execution_count": 21,
   "id": "aebee20e",
   "metadata": {},
   "outputs": [
    {
     "data": {
      "text/plain": [
       "DatetimeIndex(['2025-01-01', '2025-01-02', '2025-01-03', '2025-01-06',\n",
       "               '2025-01-07', '2025-01-08', '2025-01-09', '2025-01-10',\n",
       "               '2025-01-13', '2025-01-14', '2025-01-15'],\n",
       "              dtype='datetime64[ns]', freq='B')"
      ]
     },
     "execution_count": 21,
     "metadata": {},
     "output_type": "execute_result"
    }
   ],
   "source": [
    "pd.date_range(start=\"2025-01-01\", end=\"2025-01-15\", freq=\"B\") #business days Mon-Fri"
   ]
  },
  {
   "cell_type": "code",
   "execution_count": 18,
   "id": "396ce69f",
   "metadata": {},
   "outputs": [
    {
     "data": {
      "text/plain": [
       "DatetimeIndex(['2025-01-05', '2025-01-12', '2025-01-19', '2025-01-26'], dtype='datetime64[ns]', freq='W-SUN')"
      ]
     },
     "execution_count": 18,
     "metadata": {},
     "output_type": "execute_result"
    }
   ],
   "source": [
    "pd.date_range(start=\"2025-01-01\", end=\"2025-02-01\", freq=\"W\") #weekly starting on Sunday"
   ]
  },
  {
   "cell_type": "code",
   "execution_count": 19,
   "id": "259bb192",
   "metadata": {},
   "outputs": [
    {
     "data": {
      "text/plain": [
       "DatetimeIndex(['2025-01-03', '2025-01-10', '2025-01-17', '2025-01-24',\n",
       "               '2025-01-31'],\n",
       "              dtype='datetime64[ns]', freq='W-FRI')"
      ]
     },
     "execution_count": 19,
     "metadata": {},
     "output_type": "execute_result"
    }
   ],
   "source": [
    "pd.date_range(start=\"2025-01-01\", end=\"2025-02-01\", freq=\"W-FRI\") #weekly starting on specific day"
   ]
  },
  {
   "cell_type": "code",
   "execution_count": 23,
   "id": "00650baa",
   "metadata": {},
   "outputs": [
    {
     "data": {
      "text/plain": [
       "DatetimeIndex(['2025-01-01 00:00:00', '2025-01-01 01:00:00',\n",
       "               '2025-01-01 02:00:00', '2025-01-01 03:00:00',\n",
       "               '2025-01-01 04:00:00', '2025-01-01 05:00:00',\n",
       "               '2025-01-01 06:00:00', '2025-01-01 07:00:00',\n",
       "               '2025-01-01 08:00:00', '2025-01-01 09:00:00',\n",
       "               '2025-01-01 10:00:00', '2025-01-01 11:00:00',\n",
       "               '2025-01-01 12:00:00', '2025-01-01 13:00:00',\n",
       "               '2025-01-01 14:00:00', '2025-01-01 15:00:00',\n",
       "               '2025-01-01 16:00:00', '2025-01-01 17:00:00',\n",
       "               '2025-01-01 18:00:00', '2025-01-01 19:00:00',\n",
       "               '2025-01-01 20:00:00', '2025-01-01 21:00:00',\n",
       "               '2025-01-01 22:00:00', '2025-01-01 23:00:00',\n",
       "               '2025-01-02 00:00:00'],\n",
       "              dtype='datetime64[ns]', freq='H')"
      ]
     },
     "execution_count": 23,
     "metadata": {},
     "output_type": "execute_result"
    }
   ],
   "source": [
    "pd.date_range(start=\"2025-01-01\", end=\"2025-01-02\", freq=\"H\") #one hour"
   ]
  },
  {
   "cell_type": "code",
   "execution_count": 24,
   "id": "76bf9dae",
   "metadata": {},
   "outputs": [
    {
     "data": {
      "text/plain": [
       "DatetimeIndex(['2025-01-01 00:00:00', '2025-01-01 06:00:00',\n",
       "               '2025-01-01 12:00:00', '2025-01-01 18:00:00',\n",
       "               '2025-01-02 00:00:00'],\n",
       "              dtype='datetime64[ns]', freq='6H')"
      ]
     },
     "execution_count": 24,
     "metadata": {},
     "output_type": "execute_result"
    }
   ],
   "source": [
    "pd.date_range(start=\"2025-01-01\", end=\"2025-01-02\", freq=\"6H\") #six hour"
   ]
  },
  {
   "cell_type": "code",
   "execution_count": 25,
   "id": "89a19320",
   "metadata": {},
   "outputs": [
    {
     "data": {
      "text/plain": [
       "DatetimeIndex(['2025-01-01', '2025-02-01', '2025-03-01', '2025-04-01',\n",
       "               '2025-05-01', '2025-06-01', '2025-07-01', '2025-08-01',\n",
       "               '2025-09-01', '2025-10-01', '2025-11-01', '2025-12-01'],\n",
       "              dtype='datetime64[ns]', freq='MS')"
      ]
     },
     "execution_count": 25,
     "metadata": {},
     "output_type": "execute_result"
    }
   ],
   "source": [
    "pd.date_range(start=\"2025-01-01\", end=\"2025-12-01\", freq=\"MS\") #month start"
   ]
  },
  {
   "cell_type": "code",
   "execution_count": 27,
   "id": "3c8c3ea3",
   "metadata": {},
   "outputs": [
    {
     "data": {
      "text/plain": [
       "DatetimeIndex(['2025-12-31'], dtype='datetime64[ns]', freq='A-DEC')"
      ]
     },
     "execution_count": 27,
     "metadata": {},
     "output_type": "execute_result"
    }
   ],
   "source": [
    "pd.date_range(start=\"2025-01-01\", end=\"2025-12-31\", freq=\"A\") #annual year end"
   ]
  },
  {
   "cell_type": "code",
   "execution_count": 28,
   "id": "03acc526",
   "metadata": {},
   "outputs": [
    {
     "data": {
      "text/plain": [
       "DatetimeIndex(['2012-09-09', '2012-09-10', '2012-09-11', '2012-09-12',\n",
       "               '2012-09-13', '2012-09-14', '2012-09-15', '2012-09-16',\n",
       "               '2012-09-17', '2012-09-18', '2012-09-19', '2012-09-20',\n",
       "               '2012-09-21', '2012-09-22', '2012-09-23', '2012-09-24',\n",
       "               '2012-09-25', '2012-09-26', '2012-09-27', '2012-09-28',\n",
       "               '2012-09-29', '2012-09-30', '2012-10-01', '2012-10-02',\n",
       "               '2012-10-03'],\n",
       "              dtype='datetime64[ns]', freq='D')"
      ]
     },
     "execution_count": 28,
     "metadata": {},
     "output_type": "execute_result"
    }
   ],
   "source": [
    "pd.date_range(start=\"2012-09-09\", freq=\"D\", periods=25) #no end date, just # of periods to calculate"
   ]
  },
  {
   "cell_type": "code",
   "execution_count": 31,
   "id": "13bb9b4c",
   "metadata": {},
   "outputs": [
    {
     "data": {
      "text/plain": [
       "DatetimeIndex(['2012-08-06', '2012-08-07', '2012-08-08', '2012-08-09',\n",
       "               '2012-08-10', '2012-08-13', '2012-08-14', '2012-08-15',\n",
       "               '2012-08-16', '2012-08-17', '2012-08-20', '2012-08-21',\n",
       "               '2012-08-22', '2012-08-23', '2012-08-24', '2012-08-27',\n",
       "               '2012-08-28', '2012-08-29', '2012-08-30', '2012-08-31',\n",
       "               '2012-09-03', '2012-09-04', '2012-09-05', '2012-09-06',\n",
       "               '2012-09-07'],\n",
       "              dtype='datetime64[ns]', freq='B')"
      ]
     },
     "execution_count": 31,
     "metadata": {},
     "output_type": "execute_result"
    }
   ],
   "source": [
    "pd.date_range(end=\"2012-09-09\", freq=\"B\", periods=25) #no start date, just # of periods to calculate"
   ]
  },
  {
   "cell_type": "markdown",
   "id": "7a48ecb5",
   "metadata": {},
   "source": [
    "# DT Attributes"
   ]
  },
  {
   "cell_type": "code",
   "execution_count": 35,
   "id": "dd2c0eb8",
   "metadata": {},
   "outputs": [
    {
     "data": {
      "text/plain": [
       "0   2000-01-01 00:00:00\n",
       "1   2000-01-25 03:00:00\n",
       "2   2000-02-18 06:00:00\n",
       "3   2000-03-13 09:00:00\n",
       "4   2000-04-06 12:00:00\n",
       "dtype: datetime64[ns]"
      ]
     },
     "execution_count": 35,
     "metadata": {},
     "output_type": "execute_result"
    }
   ],
   "source": [
    "bunch_of_dates = pd.Series(pd.date_range(start=\"2000-01-01\", end=\"2020-12-31\", freq=\"24D 3H\"))\n",
    "bunch_of_dates.head()"
   ]
  },
  {
   "cell_type": "code",
   "execution_count": 37,
   "id": "72f1abfd",
   "metadata": {},
   "outputs": [
    {
     "data": {
      "text/plain": [
       "0       1\n",
       "1       1\n",
       "2       2\n",
       "3       3\n",
       "4       4\n",
       "       ..\n",
       "313     9\n",
       "314     9\n",
       "315    10\n",
       "316    11\n",
       "317    12\n",
       "Length: 318, dtype: int64"
      ]
     },
     "execution_count": 37,
     "metadata": {},
     "output_type": "execute_result"
    }
   ],
   "source": [
    "bunch_of_dates.dt.day\n",
    "bunch_of_dates.dt.month"
   ]
  },
  {
   "cell_type": "code",
   "execution_count": 38,
   "id": "f26ca897",
   "metadata": {},
   "outputs": [
    {
     "data": {
      "text/plain": [
       "0        1\n",
       "1       25\n",
       "2       49\n",
       "3       73\n",
       "4       97\n",
       "      ... \n",
       "313    247\n",
       "314    271\n",
       "315    295\n",
       "316    319\n",
       "317    343\n",
       "Length: 318, dtype: int64"
      ]
     },
     "execution_count": 38,
     "metadata": {},
     "output_type": "execute_result"
    }
   ],
   "source": [
    "bunch_of_dates.dt.day_of_year"
   ]
  },
  {
   "cell_type": "code",
   "execution_count": 41,
   "id": "6810ec4b",
   "metadata": {},
   "outputs": [
    {
     "data": {
      "text/plain": [
       "0       Saturday\n",
       "1        Tuesday\n",
       "2         Friday\n",
       "3         Monday\n",
       "4       Thursday\n",
       "         ...    \n",
       "313     Thursday\n",
       "314       Sunday\n",
       "315    Wednesday\n",
       "316     Saturday\n",
       "317      Tuesday\n",
       "Length: 318, dtype: object"
      ]
     },
     "execution_count": 41,
     "metadata": {},
     "output_type": "execute_result"
    }
   ],
   "source": [
    "bunch_of_dates.dt.day_name()"
   ]
  },
  {
   "cell_type": "code",
   "execution_count": 49,
   "id": "7ead6f07",
   "metadata": {},
   "outputs": [
    {
     "data": {
      "text/plain": [
       "0       True\n",
       "1      False\n",
       "2      False\n",
       "3      False\n",
       "4      False\n",
       "       ...  \n",
       "313    False\n",
       "314    False\n",
       "315    False\n",
       "316    False\n",
       "317    False\n",
       "Length: 318, dtype: bool"
      ]
     },
     "execution_count": 49,
     "metadata": {},
     "output_type": "execute_result"
    }
   ],
   "source": [
    "bunch_of_dates.dt.is_month_end\n",
    "bunch_of_dates.dt.is_month_start"
   ]
  },
  {
   "cell_type": "code",
   "execution_count": 48,
   "id": "72f4af12",
   "metadata": {},
   "outputs": [
    {
     "data": {
      "text/plain": [
       "0     2000-01-01 00:00:00\n",
       "106   2007-01-01 06:00:00\n",
       "212   2014-01-01 12:00:00\n",
       "299   2019-10-01 09:00:00\n",
       "dtype: datetime64[ns]"
      ]
     },
     "execution_count": 48,
     "metadata": {},
     "output_type": "execute_result"
    }
   ],
   "source": [
    "bunch_of_dates[bunch_of_dates.dt.is_quarter_start]"
   ]
  },
  {
   "cell_type": "markdown",
   "id": "33de3f23",
   "metadata": {},
   "source": [
    "# Select Rows from DF with a DateTimeIndex"
   ]
  },
  {
   "cell_type": "code",
   "execution_count": 55,
   "id": "e216dc19",
   "metadata": {},
   "outputs": [
    {
     "data": {
      "text/html": [
       "<div>\n",
       "<style scoped>\n",
       "    .dataframe tbody tr th:only-of-type {\n",
       "        vertical-align: middle;\n",
       "    }\n",
       "\n",
       "    .dataframe tbody tr th {\n",
       "        vertical-align: top;\n",
       "    }\n",
       "\n",
       "    .dataframe thead th {\n",
       "        text-align: right;\n",
       "    }\n",
       "</style>\n",
       "<table border=\"1\" class=\"dataframe\">\n",
       "  <thead>\n",
       "    <tr style=\"text-align: right;\">\n",
       "      <th></th>\n",
       "      <th>Open</th>\n",
       "      <th>High</th>\n",
       "      <th>Low</th>\n",
       "      <th>Close</th>\n",
       "      <th>Adj Close</th>\n",
       "      <th>Volume</th>\n",
       "    </tr>\n",
       "    <tr>\n",
       "      <th>Date</th>\n",
       "      <th></th>\n",
       "      <th></th>\n",
       "      <th></th>\n",
       "      <th></th>\n",
       "      <th></th>\n",
       "      <th></th>\n",
       "    </tr>\n",
       "  </thead>\n",
       "  <tbody>\n",
       "    <tr>\n",
       "      <th>1962-02-01</th>\n",
       "      <td>6.978967</td>\n",
       "      <td>7.087317</td>\n",
       "      <td>6.978967</td>\n",
       "      <td>7.068196</td>\n",
       "      <td>1.494543</td>\n",
       "      <td>674670</td>\n",
       "    </tr>\n",
       "    <tr>\n",
       "      <th>1962-02-02</th>\n",
       "      <td>7.068196</td>\n",
       "      <td>7.112811</td>\n",
       "      <td>7.036329</td>\n",
       "      <td>7.112811</td>\n",
       "      <td>1.503977</td>\n",
       "      <td>533460</td>\n",
       "    </tr>\n",
       "    <tr>\n",
       "      <th>1962-02-05</th>\n",
       "      <td>7.112811</td>\n",
       "      <td>7.112811</td>\n",
       "      <td>6.985341</td>\n",
       "      <td>7.023582</td>\n",
       "      <td>1.485110</td>\n",
       "      <td>329490</td>\n",
       "    </tr>\n",
       "    <tr>\n",
       "      <th>1962-02-06</th>\n",
       "      <td>7.023582</td>\n",
       "      <td>7.036329</td>\n",
       "      <td>6.998088</td>\n",
       "      <td>7.029955</td>\n",
       "      <td>1.486660</td>\n",
       "      <td>274575</td>\n",
       "    </tr>\n",
       "    <tr>\n",
       "      <th>1962-02-07</th>\n",
       "      <td>7.036329</td>\n",
       "      <td>7.074570</td>\n",
       "      <td>7.036329</td>\n",
       "      <td>7.036329</td>\n",
       "      <td>1.488006</td>\n",
       "      <td>266730</td>\n",
       "    </tr>\n",
       "  </tbody>\n",
       "</table>\n",
       "</div>"
      ],
      "text/plain": [
       "                Open      High       Low     Close  Adj Close  Volume\n",
       "Date                                                                 \n",
       "1962-02-01  6.978967  7.087317  6.978967  7.068196   1.494543  674670\n",
       "1962-02-02  7.068196  7.112811  7.036329  7.112811   1.503977  533460\n",
       "1962-02-05  7.112811  7.112811  6.985341  7.023582   1.485110  329490\n",
       "1962-02-06  7.023582  7.036329  6.998088  7.029955   1.486660  274575\n",
       "1962-02-07  7.036329  7.074570  7.036329  7.036329   1.488006  266730"
      ]
     },
     "execution_count": 55,
     "metadata": {},
     "output_type": "execute_result"
    }
   ],
   "source": [
    "ibm = pd.read_csv(\"IBM.csv\", parse_dates=[\"Date\"], index_col=\"Date\").sort_index()\n",
    "ibm.head()"
   ]
  },
  {
   "cell_type": "code",
   "execution_count": 60,
   "id": "c64f673e",
   "metadata": {},
   "outputs": [
    {
     "data": {
      "text/plain": [
       "Open         1.776386e+02\n",
       "High         1.789293e+02\n",
       "Low          1.775143e+02\n",
       "Close        1.782409e+02\n",
       "Adj Close    1.167212e+02\n",
       "Volume       4.950718e+06\n",
       "Name: 2014-03-04 00:00:00, dtype: float64"
      ]
     },
     "execution_count": 60,
     "metadata": {},
     "output_type": "execute_result"
    }
   ],
   "source": [
    "ibm.iloc[300]\n",
    "ibm.loc[\"2014-03-04\"]\n",
    "ibm.loc[pd.Timestamp(2014,3,4)]"
   ]
  },
  {
   "cell_type": "markdown",
   "id": "28a68d99",
   "metadata": {},
   "source": [
    "# Date Offset"
   ]
  },
  {
   "cell_type": "code",
   "execution_count": 61,
   "id": "643d7121",
   "metadata": {},
   "outputs": [
    {
     "data": {
      "text/plain": [
       "DatetimeIndex(['1962-02-01', '1962-02-02', '1962-02-05', '1962-02-06',\n",
       "               '1962-02-07', '1962-02-08', '1962-02-09', '1962-02-12',\n",
       "               '1962-02-13', '1962-02-14',\n",
       "               ...\n",
       "               '2024-02-14', '2024-02-15', '2024-02-16', '2024-02-20',\n",
       "               '2024-02-21', '2024-02-22', '2024-02-23', '2024-02-26',\n",
       "               '2024-02-27', '2024-02-28'],\n",
       "              dtype='datetime64[ns]', name='Date', length=15624, freq=None)"
      ]
     },
     "execution_count": 61,
     "metadata": {},
     "output_type": "execute_result"
    }
   ],
   "source": [
    "ibm.index"
   ]
  },
  {
   "cell_type": "code",
   "execution_count": 65,
   "id": "f5cfb11d",
   "metadata": {},
   "outputs": [
    {
     "data": {
      "text/plain": [
       "DatetimeIndex(['1962-01-01', '1962-01-02', '1962-01-05', '1962-01-06',\n",
       "               '1962-01-07', '1962-01-08', '1962-01-09', '1962-01-12',\n",
       "               '1962-01-13', '1962-01-14',\n",
       "               ...\n",
       "               '2024-01-14', '2024-01-15', '2024-01-16', '2024-01-20',\n",
       "               '2024-01-21', '2024-01-22', '2024-01-23', '2024-01-26',\n",
       "               '2024-01-27', '2024-01-28'],\n",
       "              dtype='datetime64[ns]', name='Date', length=15624, freq=None)"
      ]
     },
     "execution_count": 65,
     "metadata": {},
     "output_type": "execute_result"
    }
   ],
   "source": [
    "ibm.index + pd.DateOffset(days=5) #brand new DT index that adds 5 days to each starting date\n",
    "ibm.index - pd.DateOffset(months=1) #brand new DT index that subtracts 1 month from each starting date"
   ]
  },
  {
   "cell_type": "code",
   "execution_count": 69,
   "id": "d1de5056",
   "metadata": {},
   "outputs": [],
   "source": [
    "# Find the IBM stock price on every one of my birthdays\n",
    "birthdays = pd.date_range(start=\"1995-12-14\", end=\"2023-04-12\", freq=pd.DateOffset(years=1))"
   ]
  },
  {
   "cell_type": "code",
   "execution_count": 71,
   "id": "9bacb495",
   "metadata": {},
   "outputs": [
    {
     "data": {
      "text/html": [
       "<div>\n",
       "<style scoped>\n",
       "    .dataframe tbody tr th:only-of-type {\n",
       "        vertical-align: middle;\n",
       "    }\n",
       "\n",
       "    .dataframe tbody tr th {\n",
       "        vertical-align: top;\n",
       "    }\n",
       "\n",
       "    .dataframe thead th {\n",
       "        text-align: right;\n",
       "    }\n",
       "</style>\n",
       "<table border=\"1\" class=\"dataframe\">\n",
       "  <thead>\n",
       "    <tr style=\"text-align: right;\">\n",
       "      <th></th>\n",
       "      <th>Open</th>\n",
       "      <th>High</th>\n",
       "      <th>Low</th>\n",
       "      <th>Close</th>\n",
       "      <th>Adj Close</th>\n",
       "      <th>Volume</th>\n",
       "    </tr>\n",
       "    <tr>\n",
       "      <th>Date</th>\n",
       "      <th></th>\n",
       "      <th></th>\n",
       "      <th></th>\n",
       "      <th></th>\n",
       "      <th></th>\n",
       "      <th></th>\n",
       "    </tr>\n",
       "  </thead>\n",
       "  <tbody>\n",
       "    <tr>\n",
       "      <th>1995-12-14</th>\n",
       "      <td>22.645794</td>\n",
       "      <td>22.735420</td>\n",
       "      <td>22.078156</td>\n",
       "      <td>22.406788</td>\n",
       "      <td>11.836429</td>\n",
       "      <td>14185852</td>\n",
       "    </tr>\n",
       "    <tr>\n",
       "      <th>1998-12-14</th>\n",
       "      <td>79.588913</td>\n",
       "      <td>79.827919</td>\n",
       "      <td>77.796364</td>\n",
       "      <td>77.856117</td>\n",
       "      <td>42.254452</td>\n",
       "      <td>7894580</td>\n",
       "    </tr>\n",
       "    <tr>\n",
       "      <th>1999-12-14</th>\n",
       "      <td>105.341782</td>\n",
       "      <td>105.341782</td>\n",
       "      <td>102.174950</td>\n",
       "      <td>104.445503</td>\n",
       "      <td>56.955791</td>\n",
       "      <td>7780043</td>\n",
       "    </tr>\n",
       "    <tr>\n",
       "      <th>2000-12-14</th>\n",
       "      <td>87.954109</td>\n",
       "      <td>89.567398</td>\n",
       "      <td>87.774857</td>\n",
       "      <td>88.372368</td>\n",
       "      <td>48.415359</td>\n",
       "      <td>6413444</td>\n",
       "    </tr>\n",
       "    <tr>\n",
       "      <th>2001-12-14</th>\n",
       "      <td>115.487572</td>\n",
       "      <td>116.137665</td>\n",
       "      <td>114.158699</td>\n",
       "      <td>115.774376</td>\n",
       "      <td>63.739212</td>\n",
       "      <td>7359656</td>\n",
       "    </tr>\n",
       "    <tr>\n",
       "      <th>2004-12-14</th>\n",
       "      <td>92.065010</td>\n",
       "      <td>93.403442</td>\n",
       "      <td>92.055450</td>\n",
       "      <td>93.030594</td>\n",
       "      <td>52.388996</td>\n",
       "      <td>4699887</td>\n",
       "    </tr>\n",
       "    <tr>\n",
       "      <th>2005-12-14</th>\n",
       "      <td>79.971321</td>\n",
       "      <td>80.258125</td>\n",
       "      <td>79.302101</td>\n",
       "      <td>79.474190</td>\n",
       "      <td>45.175549</td>\n",
       "      <td>7491243</td>\n",
       "    </tr>\n",
       "    <tr>\n",
       "      <th>2006-12-14</th>\n",
       "      <td>90.793503</td>\n",
       "      <td>91.510513</td>\n",
       "      <td>90.382408</td>\n",
       "      <td>91.166351</td>\n",
       "      <td>52.517498</td>\n",
       "      <td>4857729</td>\n",
       "    </tr>\n",
       "    <tr>\n",
       "      <th>2007-12-14</th>\n",
       "      <td>102.590820</td>\n",
       "      <td>102.829826</td>\n",
       "      <td>99.521988</td>\n",
       "      <td>101.118546</td>\n",
       "      <td>59.069698</td>\n",
       "      <td>10157915</td>\n",
       "    </tr>\n",
       "    <tr>\n",
       "      <th>2009-12-14</th>\n",
       "      <td>123.948372</td>\n",
       "      <td>124.263863</td>\n",
       "      <td>123.900574</td>\n",
       "      <td>124.216064</td>\n",
       "      <td>75.306831</td>\n",
       "      <td>5440560</td>\n",
       "    </tr>\n",
       "    <tr>\n",
       "      <th>2010-12-14</th>\n",
       "      <td>137.915863</td>\n",
       "      <td>139.588913</td>\n",
       "      <td>137.915863</td>\n",
       "      <td>139.407272</td>\n",
       "      <td>86.133667</td>\n",
       "      <td>5021637</td>\n",
       "    </tr>\n",
       "    <tr>\n",
       "      <th>2011-12-14</th>\n",
       "      <td>181.491394</td>\n",
       "      <td>181.912048</td>\n",
       "      <td>179.732315</td>\n",
       "      <td>180.420654</td>\n",
       "      <td>113.359291</td>\n",
       "      <td>5290354</td>\n",
       "    </tr>\n",
       "    <tr>\n",
       "      <th>2012-12-14</th>\n",
       "      <td>183.260040</td>\n",
       "      <td>184.894836</td>\n",
       "      <td>182.848953</td>\n",
       "      <td>183.326965</td>\n",
       "      <td>117.124435</td>\n",
       "      <td>4002937</td>\n",
       "    </tr>\n",
       "    <tr>\n",
       "      <th>2015-12-14</th>\n",
       "      <td>129.359467</td>\n",
       "      <td>130.152969</td>\n",
       "      <td>128.126190</td>\n",
       "      <td>129.952194</td>\n",
       "      <td>89.521103</td>\n",
       "      <td>5380415</td>\n",
       "    </tr>\n",
       "    <tr>\n",
       "      <th>2016-12-14</th>\n",
       "      <td>160.965576</td>\n",
       "      <td>162.418732</td>\n",
       "      <td>160.086044</td>\n",
       "      <td>161.099426</td>\n",
       "      <td>115.206619</td>\n",
       "      <td>4313913</td>\n",
       "    </tr>\n",
       "    <tr>\n",
       "      <th>2017-12-14</th>\n",
       "      <td>147.801147</td>\n",
       "      <td>148.288712</td>\n",
       "      <td>146.940720</td>\n",
       "      <td>147.227539</td>\n",
       "      <td>109.370140</td>\n",
       "      <td>4850720</td>\n",
       "    </tr>\n",
       "    <tr>\n",
       "      <th>2018-12-14</th>\n",
       "      <td>114.244743</td>\n",
       "      <td>115.783936</td>\n",
       "      <td>114.187378</td>\n",
       "      <td>114.627151</td>\n",
       "      <td>89.004089</td>\n",
       "      <td>4763693</td>\n",
       "    </tr>\n",
       "    <tr>\n",
       "      <th>2020-12-14</th>\n",
       "      <td>119.808792</td>\n",
       "      <td>120.688339</td>\n",
       "      <td>118.040154</td>\n",
       "      <td>118.097511</td>\n",
       "      <td>101.136528</td>\n",
       "      <td>5282300</td>\n",
       "    </tr>\n",
       "    <tr>\n",
       "      <th>2021-12-14</th>\n",
       "      <td>122.349998</td>\n",
       "      <td>125.029999</td>\n",
       "      <td>122.300003</td>\n",
       "      <td>123.760002</td>\n",
       "      <td>111.318275</td>\n",
       "      <td>5716100</td>\n",
       "    </tr>\n",
       "    <tr>\n",
       "      <th>2022-12-14</th>\n",
       "      <td>150.470001</td>\n",
       "      <td>151.910004</td>\n",
       "      <td>148.449997</td>\n",
       "      <td>149.860001</td>\n",
       "      <td>141.479477</td>\n",
       "      <td>4205900</td>\n",
       "    </tr>\n",
       "  </tbody>\n",
       "</table>\n",
       "</div>"
      ],
      "text/plain": [
       "                  Open        High         Low       Close   Adj Close  \\\n",
       "Date                                                                     \n",
       "1995-12-14   22.645794   22.735420   22.078156   22.406788   11.836429   \n",
       "1998-12-14   79.588913   79.827919   77.796364   77.856117   42.254452   \n",
       "1999-12-14  105.341782  105.341782  102.174950  104.445503   56.955791   \n",
       "2000-12-14   87.954109   89.567398   87.774857   88.372368   48.415359   \n",
       "2001-12-14  115.487572  116.137665  114.158699  115.774376   63.739212   \n",
       "2004-12-14   92.065010   93.403442   92.055450   93.030594   52.388996   \n",
       "2005-12-14   79.971321   80.258125   79.302101   79.474190   45.175549   \n",
       "2006-12-14   90.793503   91.510513   90.382408   91.166351   52.517498   \n",
       "2007-12-14  102.590820  102.829826   99.521988  101.118546   59.069698   \n",
       "2009-12-14  123.948372  124.263863  123.900574  124.216064   75.306831   \n",
       "2010-12-14  137.915863  139.588913  137.915863  139.407272   86.133667   \n",
       "2011-12-14  181.491394  181.912048  179.732315  180.420654  113.359291   \n",
       "2012-12-14  183.260040  184.894836  182.848953  183.326965  117.124435   \n",
       "2015-12-14  129.359467  130.152969  128.126190  129.952194   89.521103   \n",
       "2016-12-14  160.965576  162.418732  160.086044  161.099426  115.206619   \n",
       "2017-12-14  147.801147  148.288712  146.940720  147.227539  109.370140   \n",
       "2018-12-14  114.244743  115.783936  114.187378  114.627151   89.004089   \n",
       "2020-12-14  119.808792  120.688339  118.040154  118.097511  101.136528   \n",
       "2021-12-14  122.349998  125.029999  122.300003  123.760002  111.318275   \n",
       "2022-12-14  150.470001  151.910004  148.449997  149.860001  141.479477   \n",
       "\n",
       "              Volume  \n",
       "Date                  \n",
       "1995-12-14  14185852  \n",
       "1998-12-14   7894580  \n",
       "1999-12-14   7780043  \n",
       "2000-12-14   6413444  \n",
       "2001-12-14   7359656  \n",
       "2004-12-14   4699887  \n",
       "2005-12-14   7491243  \n",
       "2006-12-14   4857729  \n",
       "2007-12-14  10157915  \n",
       "2009-12-14   5440560  \n",
       "2010-12-14   5021637  \n",
       "2011-12-14   5290354  \n",
       "2012-12-14   4002937  \n",
       "2015-12-14   5380415  \n",
       "2016-12-14   4313913  \n",
       "2017-12-14   4850720  \n",
       "2018-12-14   4763693  \n",
       "2020-12-14   5282300  \n",
       "2021-12-14   5716100  \n",
       "2022-12-14   4205900  "
      ]
     },
     "execution_count": 71,
     "metadata": {},
     "output_type": "execute_result"
    }
   ],
   "source": [
    "ibm[ibm.index.isin(birthdays)]"
   ]
  },
  {
   "cell_type": "markdown",
   "id": "e19ce0cf",
   "metadata": {},
   "source": [
    "# Specialized Date Offsets"
   ]
  },
  {
   "cell_type": "code",
   "execution_count": 72,
   "id": "181e8c99",
   "metadata": {},
   "outputs": [
    {
     "data": {
      "text/plain": [
       "DatetimeIndex(['1962-02-28', '1962-02-28', '1962-02-28', '1962-02-28',\n",
       "               '1962-02-28', '1962-02-28', '1962-02-28', '1962-02-28',\n",
       "               '1962-02-28', '1962-02-28',\n",
       "               ...\n",
       "               '2024-02-29', '2024-02-29', '2024-02-29', '2024-02-29',\n",
       "               '2024-02-29', '2024-02-29', '2024-02-29', '2024-02-29',\n",
       "               '2024-02-29', '2024-02-29'],\n",
       "              dtype='datetime64[ns]', name='Date', length=15624, freq=None)"
      ]
     },
     "execution_count": 72,
     "metadata": {},
     "output_type": "execute_result"
    }
   ],
   "source": [
    "#Round each date to the end of its month\n",
    "ibm.index + pd.tseries.offsets.MonthEnd()"
   ]
  },
  {
   "cell_type": "code",
   "execution_count": 73,
   "id": "51532b60",
   "metadata": {},
   "outputs": [
    {
     "data": {
      "text/plain": [
       "DatetimeIndex(['1962-03-01', '1962-03-01', '1962-03-01', '1962-03-01',\n",
       "               '1962-03-01', '1962-03-01', '1962-03-01', '1962-03-01',\n",
       "               '1962-03-01', '1962-03-01',\n",
       "               ...\n",
       "               '2024-03-01', '2024-03-01', '2024-03-01', '2024-03-01',\n",
       "               '2024-03-01', '2024-03-01', '2024-03-01', '2024-03-01',\n",
       "               '2024-03-01', '2024-03-01'],\n",
       "              dtype='datetime64[ns]', name='Date', length=15624, freq=None)"
      ]
     },
     "execution_count": 73,
     "metadata": {},
     "output_type": "execute_result"
    }
   ],
   "source": [
    "ibm.index + pd.tseries.offsets.QuarterBegin()"
   ]
  },
  {
   "cell_type": "markdown",
   "id": "9f3048a8",
   "metadata": {},
   "source": [
    "# Time Delta (duration)"
   ]
  },
  {
   "cell_type": "code",
   "execution_count": 75,
   "id": "1d66bc06",
   "metadata": {},
   "outputs": [
    {
     "data": {
      "text/plain": [
       "Timedelta('10 days 17:04:49')"
      ]
     },
     "execution_count": 75,
     "metadata": {},
     "output_type": "execute_result"
    }
   ],
   "source": [
    "pd.Timestamp(\"2023-03-31 12:30:48\") - pd.Timestamp(\"2023-03-20 19:25:59\")"
   ]
  },
  {
   "cell_type": "code",
   "execution_count": 77,
   "id": "db7c8dfe",
   "metadata": {},
   "outputs": [
    {
     "data": {
      "text/plain": [
       "Timedelta('3 days 02:05:00')"
      ]
     },
     "execution_count": 77,
     "metadata": {},
     "output_type": "execute_result"
    }
   ],
   "source": [
    "pd.Timedelta(days=3, hours=2, minutes=5)"
   ]
  },
  {
   "cell_type": "code",
   "execution_count": 85,
   "id": "c8332e08",
   "metadata": {},
   "outputs": [
    {
     "data": {
      "text/html": [
       "<div>\n",
       "<style scoped>\n",
       "    .dataframe tbody tr th:only-of-type {\n",
       "        vertical-align: middle;\n",
       "    }\n",
       "\n",
       "    .dataframe tbody tr th {\n",
       "        vertical-align: top;\n",
       "    }\n",
       "\n",
       "    .dataframe thead th {\n",
       "        text-align: right;\n",
       "    }\n",
       "</style>\n",
       "<table border=\"1\" class=\"dataframe\">\n",
       "  <thead>\n",
       "    <tr style=\"text-align: right;\">\n",
       "      <th></th>\n",
       "      <th>order_date</th>\n",
       "      <th>delivery_date</th>\n",
       "    </tr>\n",
       "    <tr>\n",
       "      <th>ID</th>\n",
       "      <th></th>\n",
       "      <th></th>\n",
       "    </tr>\n",
       "  </thead>\n",
       "  <tbody>\n",
       "    <tr>\n",
       "      <th>1</th>\n",
       "      <td>1998-05-24</td>\n",
       "      <td>1999-02-05</td>\n",
       "    </tr>\n",
       "    <tr>\n",
       "      <th>2</th>\n",
       "      <td>1992-04-22</td>\n",
       "      <td>1998-03-06</td>\n",
       "    </tr>\n",
       "    <tr>\n",
       "      <th>4</th>\n",
       "      <td>1991-02-10</td>\n",
       "      <td>1992-08-26</td>\n",
       "    </tr>\n",
       "    <tr>\n",
       "      <th>5</th>\n",
       "      <td>1992-07-21</td>\n",
       "      <td>1997-11-20</td>\n",
       "    </tr>\n",
       "    <tr>\n",
       "      <th>7</th>\n",
       "      <td>1993-09-02</td>\n",
       "      <td>1998-06-10</td>\n",
       "    </tr>\n",
       "  </tbody>\n",
       "</table>\n",
       "</div>"
      ],
      "text/plain": [
       "   order_date delivery_date\n",
       "ID                         \n",
       "1  1998-05-24    1999-02-05\n",
       "2  1992-04-22    1998-03-06\n",
       "4  1991-02-10    1992-08-26\n",
       "5  1992-07-21    1997-11-20\n",
       "7  1993-09-02    1998-06-10"
      ]
     },
     "execution_count": 85,
     "metadata": {},
     "output_type": "execute_result"
    }
   ],
   "source": [
    "ecomm = pd.read_csv(\"ecommerce.csv\", index_col=\"ID\", parse_dates=[\"order_date\", \"delivery_date\"])\n",
    "ecomm.head()"
   ]
  },
  {
   "cell_type": "code",
   "execution_count": 88,
   "id": "dddf9350",
   "metadata": {},
   "outputs": [
    {
     "data": {
      "text/html": [
       "<div>\n",
       "<style scoped>\n",
       "    .dataframe tbody tr th:only-of-type {\n",
       "        vertical-align: middle;\n",
       "    }\n",
       "\n",
       "    .dataframe tbody tr th {\n",
       "        vertical-align: top;\n",
       "    }\n",
       "\n",
       "    .dataframe thead th {\n",
       "        text-align: right;\n",
       "    }\n",
       "</style>\n",
       "<table border=\"1\" class=\"dataframe\">\n",
       "  <thead>\n",
       "    <tr style=\"text-align: right;\">\n",
       "      <th></th>\n",
       "      <th>order_date</th>\n",
       "      <th>delivery_date</th>\n",
       "      <th>Delivery Time</th>\n",
       "    </tr>\n",
       "    <tr>\n",
       "      <th>ID</th>\n",
       "      <th></th>\n",
       "      <th></th>\n",
       "      <th></th>\n",
       "    </tr>\n",
       "  </thead>\n",
       "  <tbody>\n",
       "    <tr>\n",
       "      <th>1</th>\n",
       "      <td>1998-05-24</td>\n",
       "      <td>1999-02-05</td>\n",
       "      <td>257 days</td>\n",
       "    </tr>\n",
       "    <tr>\n",
       "      <th>2</th>\n",
       "      <td>1992-04-22</td>\n",
       "      <td>1998-03-06</td>\n",
       "      <td>2144 days</td>\n",
       "    </tr>\n",
       "    <tr>\n",
       "      <th>4</th>\n",
       "      <td>1991-02-10</td>\n",
       "      <td>1992-08-26</td>\n",
       "      <td>563 days</td>\n",
       "    </tr>\n",
       "    <tr>\n",
       "      <th>5</th>\n",
       "      <td>1992-07-21</td>\n",
       "      <td>1997-11-20</td>\n",
       "      <td>1948 days</td>\n",
       "    </tr>\n",
       "    <tr>\n",
       "      <th>7</th>\n",
       "      <td>1993-09-02</td>\n",
       "      <td>1998-06-10</td>\n",
       "      <td>1742 days</td>\n",
       "    </tr>\n",
       "  </tbody>\n",
       "</table>\n",
       "</div>"
      ],
      "text/plain": [
       "   order_date delivery_date Delivery Time\n",
       "ID                                       \n",
       "1  1998-05-24    1999-02-05      257 days\n",
       "2  1992-04-22    1998-03-06     2144 days\n",
       "4  1991-02-10    1992-08-26      563 days\n",
       "5  1992-07-21    1997-11-20     1948 days\n",
       "7  1993-09-02    1998-06-10     1742 days"
      ]
     },
     "execution_count": 88,
     "metadata": {},
     "output_type": "execute_result"
    }
   ],
   "source": [
    "ecomm[\"Delivery Time\"] = ecomm[\"delivery_date\"] - ecomm[\"order_date\"]\n",
    "ecomm.head()"
   ]
  },
  {
   "cell_type": "code",
   "execution_count": 91,
   "id": "6a48ad53",
   "metadata": {},
   "outputs": [
    {
     "data": {
      "text/html": [
       "<div>\n",
       "<style scoped>\n",
       "    .dataframe tbody tr th:only-of-type {\n",
       "        vertical-align: middle;\n",
       "    }\n",
       "\n",
       "    .dataframe tbody tr th {\n",
       "        vertical-align: top;\n",
       "    }\n",
       "\n",
       "    .dataframe thead th {\n",
       "        text-align: right;\n",
       "    }\n",
       "</style>\n",
       "<table border=\"1\" class=\"dataframe\">\n",
       "  <thead>\n",
       "    <tr style=\"text-align: right;\">\n",
       "      <th></th>\n",
       "      <th>order_date</th>\n",
       "      <th>delivery_date</th>\n",
       "      <th>Delivery Time</th>\n",
       "      <th>Twice as long</th>\n",
       "    </tr>\n",
       "    <tr>\n",
       "      <th>ID</th>\n",
       "      <th></th>\n",
       "      <th></th>\n",
       "      <th></th>\n",
       "      <th></th>\n",
       "    </tr>\n",
       "  </thead>\n",
       "  <tbody>\n",
       "    <tr>\n",
       "      <th>1</th>\n",
       "      <td>1998-05-24</td>\n",
       "      <td>1999-02-05</td>\n",
       "      <td>257 days</td>\n",
       "      <td>1999-10-20</td>\n",
       "    </tr>\n",
       "    <tr>\n",
       "      <th>2</th>\n",
       "      <td>1992-04-22</td>\n",
       "      <td>1998-03-06</td>\n",
       "      <td>2144 days</td>\n",
       "      <td>2004-01-18</td>\n",
       "    </tr>\n",
       "    <tr>\n",
       "      <th>4</th>\n",
       "      <td>1991-02-10</td>\n",
       "      <td>1992-08-26</td>\n",
       "      <td>563 days</td>\n",
       "      <td>1994-03-12</td>\n",
       "    </tr>\n",
       "    <tr>\n",
       "      <th>5</th>\n",
       "      <td>1992-07-21</td>\n",
       "      <td>1997-11-20</td>\n",
       "      <td>1948 days</td>\n",
       "      <td>2003-03-22</td>\n",
       "    </tr>\n",
       "    <tr>\n",
       "      <th>7</th>\n",
       "      <td>1993-09-02</td>\n",
       "      <td>1998-06-10</td>\n",
       "      <td>1742 days</td>\n",
       "      <td>2003-03-18</td>\n",
       "    </tr>\n",
       "  </tbody>\n",
       "</table>\n",
       "</div>"
      ],
      "text/plain": [
       "   order_date delivery_date Delivery Time Twice as long\n",
       "ID                                                     \n",
       "1  1998-05-24    1999-02-05      257 days    1999-10-20\n",
       "2  1992-04-22    1998-03-06     2144 days    2004-01-18\n",
       "4  1991-02-10    1992-08-26      563 days    1994-03-12\n",
       "5  1992-07-21    1997-11-20     1948 days    2003-03-22\n",
       "7  1993-09-02    1998-06-10     1742 days    2003-03-18"
      ]
     },
     "execution_count": 91,
     "metadata": {},
     "output_type": "execute_result"
    }
   ],
   "source": [
    "#If order took twice as long\n",
    "\n",
    "ecomm[\"Twice as long\"] = ecomm[\"delivery_date\"] + ecomm[\"Delivery Time\"]\n",
    "ecomm.head()"
   ]
  },
  {
   "cell_type": "code",
   "execution_count": 94,
   "id": "4551b541",
   "metadata": {},
   "outputs": [
    {
     "data": {
      "text/plain": [
       "Timedelta('1217 days 22:53:53.532934128')"
      ]
     },
     "execution_count": 94,
     "metadata": {},
     "output_type": "execute_result"
    }
   ],
   "source": [
    "ecomm[\"Delivery Time\"].max()\n",
    "ecomm[\"Delivery Time\"].min()\n",
    "ecomm[\"Delivery Time\"].mean()"
   ]
  },
  {
   "cell_type": "code",
   "execution_count": null,
   "id": "0553e521",
   "metadata": {},
   "outputs": [],
   "source": []
  }
 ],
 "metadata": {
  "kernelspec": {
   "display_name": "Python 3 (ipykernel)",
   "language": "python",
   "name": "python3"
  },
  "language_info": {
   "codemirror_mode": {
    "name": "ipython",
    "version": 3
   },
   "file_extension": ".py",
   "mimetype": "text/x-python",
   "name": "python",
   "nbconvert_exporter": "python",
   "pygments_lexer": "ipython3",
   "version": "3.9.12"
  }
 },
 "nbformat": 4,
 "nbformat_minor": 5
}
